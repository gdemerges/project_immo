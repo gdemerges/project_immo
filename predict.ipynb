{
 "cells": [
  {
   "cell_type": "code",
   "execution_count": 13,
   "metadata": {},
   "outputs": [],
   "source": [
    "from joblib import load\n",
    "import pandas as pd\n",
    "\n",
    "model = load('knn_model.joblib')"
   ]
  },
  {
   "cell_type": "code",
   "execution_count": null,
   "metadata": {},
   "outputs": [],
   "source": [
    "print(\"Entrez les valeurs suivantes :\")\n",
    "longitude = float(input(\"Longitude : \"))\n",
    "latitude = float(input(\"Latitude : \"))\n",
    "housing_median_age = float(input(\"Âge médian des logements : \"))\n",
    "total_rooms = float(input(\"Nombre total de pièces : \"))\n",
    "total_bedrooms = float(input(\"Nombre total de chambres : \"))\n",
    "population = float(input(\"Population : \"))\n",
    "households = float(input(\"Ménages : \"))\n",
    "median_income = float(input(\"Revenu médian : \"))\n",
    "ocean_proximity = input(\"Proximité de l'océan : \")\n",
    "\n",
    "input_data = pd.DataFrame([{\n",
    "    'longitude': longitude,\n",
    "    'latitude': latitude,\n",
    "    'housing_median_age': housing_median_age,\n",
    "    'total_rooms': total_rooms,\n",
    "    'total_bedrooms': total_bedrooms,\n",
    "    'population': population,\n",
    "    'households': households,\n",
    "    'median_income': median_income,\n",
    "    'ocean_proximity': ocean_proximity\n",
    "}])\n",
    "\n",
    "prediction = model.predict(input_data)\n",
    "print(f\"La valeur prédite est : {prediction[0]}\")"
   ]
  }
 ],
 "metadata": {
  "kernelspec": {
   "display_name": "lewagon",
   "language": "python",
   "name": "python3"
  },
  "language_info": {
   "codemirror_mode": {
    "name": "ipython",
    "version": 3
   },
   "file_extension": ".py",
   "mimetype": "text/x-python",
   "name": "python",
   "nbconvert_exporter": "python",
   "pygments_lexer": "ipython3",
   "version": "3.10.6"
  }
 },
 "nbformat": 4,
 "nbformat_minor": 2
}
