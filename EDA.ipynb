{
 "cells": [
  {
   "cell_type": "code",
   "execution_count": null,
   "metadata": {},
   "outputs": [],
   "source": [
    "import pandas as pd\n",
    "\n",
    "file_path = 'data/housing-train-data-6628a4723213d886993351.csv'\n",
    "data = pd.read_csv(file_path)\n",
    "\n",
    "data.head()"
   ]
  },
  {
   "cell_type": "code",
   "execution_count": null,
   "metadata": {},
   "outputs": [],
   "source": [
    "data.describe()"
   ]
  },
  {
   "cell_type": "code",
   "execution_count": null,
   "metadata": {},
   "outputs": [],
   "source": [
    "data.info()"
   ]
  },
  {
   "cell_type": "markdown",
   "metadata": {},
   "source": [
    "# Suppression de la colonne Unnamed: 0"
   ]
  },
  {
   "cell_type": "code",
   "execution_count": null,
   "metadata": {},
   "outputs": [],
   "source": [
    "data_cleaned = data.drop(columns=['Unnamed: 0'])\n",
    "\n",
    "data_cleaned_head = data_cleaned.head()\n",
    "data_cleaned_head\n"
   ]
  },
  {
   "cell_type": "code",
   "execution_count": null,
   "metadata": {},
   "outputs": [],
   "source": [
    "%matplotlib inline\n",
    "data_cleaned.hist(bins=50, figsize=(20, 15))"
   ]
  },
  {
   "cell_type": "markdown",
   "metadata": {},
   "source": [
    "# Vérification des valeurs manquantes"
   ]
  },
  {
   "cell_type": "code",
   "execution_count": null,
   "metadata": {},
   "outputs": [],
   "source": [
    "missing_values = data_cleaned.isnull().sum()\n",
    "\n",
    "missing_values\n"
   ]
  },
  {
   "cell_type": "markdown",
   "metadata": {},
   "source": [
    "# Suppression des valeurs manquantes pour total_bedrooms"
   ]
  },
  {
   "cell_type": "code",
   "execution_count": 39,
   "metadata": {},
   "outputs": [],
   "source": [
    "data_cleaned = data_cleaned.dropna(subset=['total_bedrooms'])"
   ]
  },
  {
   "cell_type": "markdown",
   "metadata": {},
   "source": [
    "# Vérification des doublons"
   ]
  },
  {
   "cell_type": "code",
   "execution_count": 40,
   "metadata": {},
   "outputs": [
    {
     "data": {
      "text/plain": [
       "0"
      ]
     },
     "execution_count": 40,
     "metadata": {},
     "output_type": "execute_result"
    }
   ],
   "source": [
    "duplicates = data_cleaned.duplicated().sum()\n",
    "duplicates"
   ]
  },
  {
   "cell_type": "markdown",
   "metadata": {},
   "source": [
    "# Exploration"
   ]
  },
  {
   "cell_type": "code",
   "execution_count": null,
   "metadata": {},
   "outputs": [],
   "source": [
    "import matplotlib.pyplot as plt\n",
    "import seaborn as sns\n",
    "\n",
    "plt.figure(figsize=(12, 8))\n",
    "sns.boxplot(data=data_cleaned[['total_rooms', 'total_bedrooms', 'population', 'households']])\n",
    "plt.xticks(rotation=45)\n",
    "plt.grid(True)\n",
    "plt.show()"
   ]
  },
  {
   "cell_type": "code",
   "execution_count": null,
   "metadata": {},
   "outputs": [],
   "source": [
    "plt.figure(figsize=(12, 6))\n",
    "\n",
    "plt.subplot(1, 2, 1)\n",
    "sns.histplot(data_cleaned['median_income'], bins=30, kde=True, color='blue')\n",
    "plt.title('Distribution de Median Income')\n",
    "plt.xlabel('Median Income')\n",
    "plt.ylabel('Frequency')\n",
    "\n",
    "plt.subplot(1, 2, 2)\n",
    "sns.histplot(data_cleaned['median_house_value'], bins=30, kde=True, color='green')\n",
    "plt.title('Distribution de Median House Value')\n",
    "plt.xlabel('Median House Value')\n",
    "plt.ylabel('Frequency')\n",
    "\n",
    "plt.tight_layout()\n",
    "plt.show()"
   ]
  },
  {
   "cell_type": "code",
   "execution_count": null,
   "metadata": {},
   "outputs": [],
   "source": [
    "plt.figure(figsize=(10, 6))\n",
    "sns.scatterplot(x=data_cleaned['median_income'], y=data_cleaned['median_house_value'], alpha=0.5)\n",
    "plt.title('Scatter Plot de Median House Value vs. Median Income')\n",
    "plt.xlabel('Median Income')\n",
    "plt.ylabel('Median House Value')\n",
    "plt.grid(True)\n",
    "plt.show()\n"
   ]
  },
  {
   "cell_type": "code",
   "execution_count": null,
   "metadata": {},
   "outputs": [],
   "source": [
    "plt.figure(figsize=(10, 6))\n",
    "sns.boxplot(x=data_cleaned['ocean_proximity'], y=data_cleaned['median_house_value'])\n",
    "plt.title('Boxplot of Median House Value by Ocean Proximity')\n",
    "plt.xlabel('Ocean Proximity')\n",
    "plt.ylabel('Median House Value')\n",
    "plt.xticks(rotation=45)\n",
    "plt.show()\n"
   ]
  },
  {
   "cell_type": "code",
   "execution_count": null,
   "metadata": {},
   "outputs": [],
   "source": [
    "data_cleaned[\"ocean_proximity\"].value_counts()"
   ]
  },
  {
   "cell_type": "markdown",
   "metadata": {},
   "source": [
    "# Création de 4 colonnes ocean_proximity"
   ]
  },
  {
   "cell_type": "code",
   "execution_count": 47,
   "metadata": {},
   "outputs": [],
   "source": [
    "data_cleaned = pd.get_dummies(data_cleaned, columns=['ocean_proximity'])\n"
   ]
  },
  {
   "cell_type": "code",
   "execution_count": null,
   "metadata": {},
   "outputs": [],
   "source": [
    "corr = data_cleaned.corr()\n",
    "\n",
    "plt.figure(figsize=(10, 8))\n",
    "sns.heatmap(corr, annot=True, fmt=\".2f\", cmap='coolwarm')\n",
    "plt.show()\n"
   ]
  },
  {
   "cell_type": "code",
   "execution_count": null,
   "metadata": {},
   "outputs": [],
   "source": [
    "correlation_matrix = data_cleaned.corr()\n",
    "\n",
    "correlation_matrix"
   ]
  },
  {
   "cell_type": "markdown",
   "metadata": {},
   "source": [
    "# Localisation"
   ]
  },
  {
   "cell_type": "code",
   "execution_count": null,
   "metadata": {},
   "outputs": [],
   "source": [
    "data_cleaned.plot(kind=\"scatter\", x=\"longitude\", y=\"latitude\", alpha=0.1)"
   ]
  },
  {
   "cell_type": "code",
   "execution_count": null,
   "metadata": {},
   "outputs": [],
   "source": [
    "data_cleaned.plot(kind=\"scatter\", x=\"longitude\", y=\"latitude\", alpha=0.4,\n",
    "    s=data_cleaned[\"population\"]/100, label=\"population\", figsize=(10,7),\n",
    "    c=\"median_house_value\", cmap=plt.get_cmap(\"jet\"), colorbar=True,\n",
    "    sharex=False)\n",
    "plt.legend()"
   ]
  },
  {
   "cell_type": "code",
   "execution_count": null,
   "metadata": {},
   "outputs": [],
   "source": [
    "import folium\n",
    "\n",
    "sample_data = data_cleaned.sample(n=2000, random_state=42)\n",
    "\n",
    "map_center = [sample_data['latitude'].mean(), sample_data['longitude'].mean()]\n",
    "sample_map = folium.Map(location=map_center, zoom_start=6)\n",
    "\n",
    "for idx, row in sample_data.iterrows():\n",
    "    folium.CircleMarker(\n",
    "        location=[row['latitude'], row['longitude']],\n",
    "        radius=3,\n",
    "        color='blue',\n",
    "        fill=True,\n",
    "        fill_color='blue'\n",
    "    ).add_to(sample_map)\n",
    "\n",
    "sample_map\n"
   ]
  },
  {
   "cell_type": "markdown",
   "metadata": {},
   "source": [
    "# Localisation par rapport à la valeur des maisons"
   ]
  },
  {
   "cell_type": "code",
   "execution_count": null,
   "metadata": {},
   "outputs": [],
   "source": [
    "sample_data = data_cleaned.sample(n=2000, random_state=42)\n",
    "\n",
    "def color(value):\n",
    "    if value < 100000:\n",
    "        return 'green'\n",
    "    elif value < 200000:\n",
    "        return 'blue'\n",
    "    elif value < 300000:\n",
    "        return 'purple'\n",
    "    else:\n",
    "        return 'red'\n",
    "\n",
    "def radius(value):\n",
    "    if value < 200000:\n",
    "        return 5\n",
    "    else:\n",
    "        return 10\n",
    "\n",
    "map_center = [sample_data['latitude'].mean(), sample_data['longitude'].mean()]\n",
    "sample_map = folium.Map(location=map_center, zoom_start=6)\n",
    "\n",
    "for idx, row in sample_data.iterrows():\n",
    "    folium.CircleMarker(\n",
    "        location=[row['latitude'], row['longitude']],\n",
    "        radius=radius(row['median_house_value']),\n",
    "        color=color(row['median_house_value']),\n",
    "        fill=True,\n",
    "        fill_color=color(row['median_house_value'])\n",
    "    ).add_to(sample_map)\n",
    "\n",
    "sample_map\n"
   ]
  },
  {
   "cell_type": "markdown",
   "metadata": {},
   "source": [
    "# Création de samples sur les valeurs plancher"
   ]
  },
  {
   "cell_type": "code",
   "execution_count": 54,
   "metadata": {},
   "outputs": [],
   "source": [
    "sample_age_over_51 = data_cleaned[data_cleaned['housing_median_age'] > 51].sample(n=250, random_state=200)\n",
    "sample_value_over_500k = data_cleaned[data_cleaned['median_house_value'] > 500000].sample(n=250, random_state=200)\n",
    "filtered_data = data_cleaned[(data_cleaned['median_house_value'] <= 500000) & (data_cleaned['housing_median_age'] <= 51)]\n",
    "data_cleaned2 = pd.concat([filtered_data, sample_age_over_51, sample_value_over_500k])"
   ]
  },
  {
   "cell_type": "markdown",
   "metadata": {},
   "source": [
    "# Optimisation tables"
   ]
  },
  {
   "cell_type": "code",
   "execution_count": 55,
   "metadata": {},
   "outputs": [],
   "source": [
    "data_cleaned2['rooms_per_household'] = data_cleaned2['total_rooms'] / data_cleaned2['households']\n",
    "data_cleaned2['bedrooms_per_room'] = data_cleaned2['total_bedrooms'] / data_cleaned2['total_rooms']\n",
    "\n",
    "final_data = data_cleaned2.drop(['total_rooms', 'total_bedrooms'], axis=1)"
   ]
  },
  {
   "cell_type": "markdown",
   "metadata": {},
   "source": [
    "# Création des distances par rapport à LA et SF"
   ]
  },
  {
   "cell_type": "code",
   "execution_count": null,
   "metadata": {},
   "outputs": [],
   "source": [
    "import numpy as np\n",
    "\n",
    "# Fonction pour calculer la distance de Haversine\n",
    "def haversine(lon1, lat1, lon2, lat2):\n",
    "    # Convertir les degrés en radians\n",
    "    lon1, lat1, lon2, lat2 = map(np.radians, [lon1, lat1, lon2, lat2])\n",
    "\n",
    "    # Différences de longitude et latitude\n",
    "    dlon = lon2 - lon1\n",
    "    dlat = lat2 - lat1\n",
    "\n",
    "    # Formule de Haversine\n",
    "    a = np.sin(dlat/2)**2 + np.cos(lat1) * np.cos(lat2) * np.sin(dlon/2)**2\n",
    "    c = 2 * np.arcsin(np.sqrt(a))\n",
    "    r = 6371  # Rayon de la Terre en kilomètres\n",
    "    return c * r\n",
    "\n",
    "# Coordonnées de Los Angeles et San Francisco\n",
    "la_lon, la_lat = -118.2437, 34.0522\n",
    "sf_lon, sf_lat = -122.4194, 37.7749\n",
    "\n",
    "# Création de nouvelles colonnes pour les distances\n",
    "final_data['distance_to_la'] = final_data.apply(lambda row: haversine(la_lon, la_lat, row['longitude'], row['latitude']), axis=1)\n",
    "final_data['distance_to_sf'] = final_data.apply(lambda row: haversine(sf_lon, sf_lat, row['longitude'], row['latitude']), axis=1)\n",
    "\n",
    "# Vérifier les nouvelles colonnes\n",
    "print(final_data[['distance_to_la', 'distance_to_sf']].head())"
   ]
  },
  {
   "cell_type": "markdown",
   "metadata": {},
   "source": [
    "# Export final_data dans un CSV"
   ]
  },
  {
   "cell_type": "code",
   "execution_count": 57,
   "metadata": {},
   "outputs": [],
   "source": [
    "final_data.to_csv('data/final_data.csv', index=False)"
   ]
  }
 ],
 "metadata": {
  "kernelspec": {
   "display_name": "lewagon",
   "language": "python",
   "name": "python3"
  },
  "language_info": {
   "codemirror_mode": {
    "name": "ipython",
    "version": 3
   },
   "file_extension": ".py",
   "mimetype": "text/x-python",
   "name": "python",
   "nbconvert_exporter": "python",
   "pygments_lexer": "ipython3",
   "version": "3.10.6"
  }
 },
 "nbformat": 4,
 "nbformat_minor": 2
}
